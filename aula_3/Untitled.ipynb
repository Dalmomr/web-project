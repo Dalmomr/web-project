{
 "cells": [
  {
   "cell_type": "code",
   "execution_count": null,
   "id": "cab23bcb-ec3e-4c45-835c-853b5da763f5",
   "metadata": {},
   "outputs": [],
   "source": []
  }
 ],
 "metadata": {
  "kernelspec": {
   "display_name": "",
   "name": ""
  },
  "language_info": {
   "name": ""
  }
 },
 "nbformat": 4,
 "nbformat_minor": 5
}
